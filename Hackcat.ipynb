{
 "cells": [
  {
   "cell_type": "code",
   "execution_count": 112,
   "metadata": {},
   "outputs": [],
   "source": [
    "import h5py\n",
    "import os\n",
    "import matplotlib.pyplot as plt\n",
    "import numpy as np\n",
    "import pandas as pd\n",
    "from scipy.stats import pearsonr\n",
    "import glob, os\n",
    "\n"
   ]
  },
  {
   "cell_type": "code",
   "execution_count": null,
   "metadata": {},
   "outputs": [
    {
     "name": "stdout",
     "output_type": "stream",
     "text": [
      "<HDF5 file \"COOLCAT_20101212_063501_01_20101212_063501_051.hdf\" (mode r+)>\n"
     ]
    }
   ],
   "source": [
    "cwd = os.getcwd()\n",
    "d=cwd+'/competitionfiles'\n",
    "files=glob.glob(d+'/*.hdf')\n",
    "file1=h5py.File(files[1])\n",
    "print(file1)\n",
    "chIds= file1['DYNAMIC DATA']\n",
    "cols =list(chIds.keys())\n",
    " \n",
    "huge_data_frame=pd.DataFrame(cols)\n",
    "for file in files:\n",
    "    chIds=h5py.File(file)['DYNAMIC DATA']\n",
    "    for chId in chIds:\n",
    "        df=pd.Series(np.array(chIds[chId]['MEASURED']).byteswap().newbyteorder())\n",
    "        huge_data_frame.append(df,ignore_index=True)\n",
    "    \n",
    "\n",
    "print(huge_data_frame.describe())\n",
    "# total_data_frame= df2.describe().T\n",
    "# print(group)\n",
    "# min_data_frame=df2.min()\n",
    "# max_data_frame=df2.max()\n",
    "# mean_data_frame=df2.mean()\n",
    "# col=['channel','mean','min','max']\n",
    "# print(min_data_frame.shape)\n",
    "# print(max_data_frame.shape)\n",
    "# print(mean_data_frame.shape)\n",
    "# total_data_frame=pd.DataFrame(mean_data_frame,min_data_frame,max_data_frame)\n",
    "# print(mean_data_frame)\n"
   ]
  },
  {
   "cell_type": "code",
   "execution_count": null,
   "metadata": {},
   "outputs": [],
   "source": [
    "# for coln in df2:\n",
    "#     plt.plot(coln) # plotting by columns\n",
    "#     plt.title(\"Value of \" + coln)\n",
    "#     plt.xlabel(\"Datapoint #\")\n",
    "#     plt.ylabel(\"Value\")\n",
    "\n",
    "# mean_data_frame.plot()\n",
    "# min_data_frame.hist()\n",
    "# max_data_frame.hist()\n",
    "\n",
    "\n",
    "plt.plot('ch_1', 'y1', data=total_data_frame, marker='', markerfacecolor='blue', markersize=12, color='skyblue', linewidth=2)\n",
    "plt.plot( '', 'y2', data=total_data_frame, marker='', color='olive', linewidth=2)\n",
    "plt.plot( 'x', 'y3', data=total_data_frame, marker='', color='olive', linewidth=2, linestyle='dashed', label=\"toto\")\n",
    "plt.legend()\n",
    "\n",
    "file1.close()"
   ]
  },
  {
   "cell_type": "code",
   "execution_count": null,
   "metadata": {},
   "outputs": [],
   "source": [
    "\n"
   ]
  }
 ],
 "metadata": {
  "kernelspec": {
   "display_name": "Python 3",
   "language": "python",
   "name": "python3"
  },
  "language_info": {
   "codemirror_mode": {
    "name": "ipython",
    "version": 3
   },
   "file_extension": ".py",
   "mimetype": "text/x-python",
   "name": "python",
   "nbconvert_exporter": "python",
   "pygments_lexer": "ipython3",
   "version": "3.7.4"
  }
 },
 "nbformat": 4,
 "nbformat_minor": 2
}
